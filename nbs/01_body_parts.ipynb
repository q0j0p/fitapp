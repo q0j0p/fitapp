{
 "cells": [
  {
   "cell_type": "code",
   "execution_count": null,
   "id": "66715974-e7e1-4538-ac6a-8dacfe55fc38",
   "metadata": {},
   "outputs": [],
   "source": [
    "#| default_exp collector"
   ]
  },
  {
   "cell_type": "code",
   "execution_count": null,
   "id": "4169eb03-c74f-4e2c-923d-cce79d97f8c7",
   "metadata": {},
   "outputs": [],
   "source": [
    "%reload_ext autoreload\n",
    "%autoreload 2"
   ]
  },
  {
   "cell_type": "code",
   "execution_count": null,
   "id": "bf5c55b5-8b6d-437a-ad45-78fdd51bd7d7",
   "metadata": {},
   "outputs": [],
   "source": [
    "#| hide\n",
    "from nbdev.showdoc import *"
   ]
  },
  {
   "cell_type": "code",
   "execution_count": null,
   "id": "d1742740-05e6-4a86-95a5-53f0a8a957fb",
   "metadata": {},
   "outputs": [],
   "source": []
  }
 ],
 "metadata": {
  "kernelspec": {
   "display_name": "fitapp",
   "language": "python",
   "name": "fitapp"
  }
 },
 "nbformat": 4,
 "nbformat_minor": 5
}
